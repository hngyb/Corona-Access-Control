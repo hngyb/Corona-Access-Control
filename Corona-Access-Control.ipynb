{
 "cells": [
  {
   "cell_type": "code",
   "execution_count": null,
   "metadata": {},
   "outputs": [],
   "source": [
    "# 라이브러리 불러오기\n",
    "from pandas import DataFrame\n",
    "from datetime import datetime\n",
    "import os\n",
    "\n",
    "import cv2\n",
    "import pyzbar\n",
    "from pyzbar.pyzbar import decode\n",
    "from pyzbar.pyzbar import ZBarSymbol\n",
    "\n",
    "import winsound as ws"
   ]
  },
  {
   "cell_type": "code",
   "execution_count": null,
   "metadata": {},
   "outputs": [],
   "source": [
    "# 비프음 함수\n",
    "def beepsound():\n",
    "    freq = 1000    # range : 37 ~ 32767\n",
    "    dur = 200     # ms\n",
    "    ws.Beep(freq, dur) # winsound.Beep(frequency, duration)"
   ]
  },
  {
   "cell_type": "code",
   "execution_count": null,
   "metadata": {},
   "outputs": [],
   "source": [
    "# 오늘 날짜 정보 가져오기\n",
    "today = datetime.today().strftime('%Y%m%d')"
   ]
  },
  {
   "cell_type": "code",
   "execution_count": null,
   "metadata": {},
   "outputs": [],
   "source": [
    "# PC 이름 입력받기\n",
    "pc_num= input('PC 번호를 입력하세요 : ')"
   ]
  },
  {
   "cell_type": "code",
   "execution_count": null,
   "metadata": {},
   "outputs": [],
   "source": [
    "# 파일 이름 생성하기\n",
    "file_name = today + '_' + 'PC' + '_' + pc_num"
   ]
  },
  {
   "cell_type": "code",
   "execution_count": null,
   "metadata": {},
   "outputs": [],
   "source": [
    "# 같은 이름의 파일이 있다면 파일 이름 수정\n",
    "if os.path.exists('./'+ file_name +'.xlsx') == True:\n",
    "    print('\\n오늘 자 파일이 이미 존재합니다')\n",
    "    num = input('몇 번째 파일입니까? : ')\n",
    "    file_name = today + '_' + 'PC' + '_' + pc_num + '_' + '(' + num + ')'"
   ]
  },
  {
   "cell_type": "code",
   "execution_count": null,
   "metadata": {},
   "outputs": [],
   "source": [
    "# 성도 정보 데이터 프레임 생성\n",
    "df = DataFrame(columns = ['교회', '구역', '이름','소속','연락처','체온','문진사항','방문시간'])\n",
    "count = 1\n",
    "brethren = []"
   ]
  },
  {
   "cell_type": "code",
   "execution_count": null,
   "metadata": {
    "scrolled": false
   },
   "outputs": [],
   "source": [
    "# QRCode 스캔 및 성도 정보 입력\n",
    "capture = cv2.VideoCapture(1)\n",
    "\n",
    "while True:\n",
    "    _, frame = capture.read()\n",
    "    cv2.imshow('QR Code Scanner', frame)\n",
    "    gray = cv2.cvtColor(frame, cv2.COLOR_BGR2GRAY)\n",
    "    decoded_data = decode(gray, symbols=[ZBarSymbol.QRCODE])\n",
    "    \n",
    "    try:\n",
    "        data = decoded_data[0][0]\n",
    "        \n",
    "        # 스캔 정보 utf-8로 디코딩\n",
    "        data = data.decode('utf-8')\n",
    "        \n",
    "        # 비프음 내기\n",
    "        print(beepsound())\n",
    "        print(\"\\nQR코드가 스캔되었습니다.\")\n",
    "        print(data)\n",
    "            \n",
    "        # 성도 정보 입력\n",
    "        # QRcode 형식: \"교회/구역/이름/소속/연락처/\"\n",
    "        brethren = data\n",
    "        brethren = list(brethren.split('/'))\n",
    "                \n",
    "        # 체온과 문진사항 입력\n",
    "        brethren[5] = input('체온을 입력해주세요: ')\n",
    "        brethren.append(input('문진사항을 입력해주세요(o/x): '))\n",
    "        if brethren[6] == '': # Enter 입력 'x' 처러\n",
    "            brethren[6] = 'x'\n",
    "            \n",
    "        # 현재시간을 방문시간으로 저장\n",
    "        brethren.append(datetime.today().strftime(\"%Y/%m/%d %H:%M\"))\n",
    "        \n",
    "        # 성도 정보 데이터 프레임에 저장 및 엑셀 저장\n",
    "        df.loc[count] = brethren\n",
    "        df.to_excel(file_name+ '.xlsx')\n",
    "        count = count + 1\n",
    "        \n",
    "        # 종료 or 이전 기록 삭제\n",
    "        opt = input(\"프로그램 종료: q / 이전 기록 삭제: d / 다음 단계로 이동: Enter: \")\n",
    "        if opt == 'q':\n",
    "            break\n",
    "        elif opt == 'd':\n",
    "            df.loc[count-1] = ['','','','','','','','']\n",
    "            df.to_excel(file_name + '.xlsx')\n",
    "            count = count - 1\n",
    "        else:\n",
    "            pass\n",
    "        \n",
    "    except:\n",
    "        pass\n",
    "    \n",
    "    # 'q'입력 시 스캔 종료\n",
    "    key = cv2.waitKey(1)\n",
    "    if key == ord('q'):\n",
    "        break"
   ]
  },
  {
   "cell_type": "code",
   "execution_count": null,
   "metadata": {},
   "outputs": [],
   "source": []
  }
 ],
 "metadata": {
  "kernelspec": {
   "display_name": "Python 3",
   "language": "python",
   "name": "python3"
  },
  "language_info": {
   "codemirror_mode": {
    "name": "ipython",
    "version": 3
   },
   "file_extension": ".py",
   "mimetype": "text/x-python",
   "name": "python",
   "nbconvert_exporter": "python",
   "pygments_lexer": "ipython3",
   "version": "3.7.6"
  }
 },
 "nbformat": 4,
 "nbformat_minor": 4
}
